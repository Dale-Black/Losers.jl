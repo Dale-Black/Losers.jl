{
 "cells": [
  {
   "cell_type": "code",
   "execution_count": 13,
   "metadata": {},
   "outputs": [
    {
     "name": "stderr",
     "output_type": "stream",
     "text": [
      "\u001b[32m\u001b[1m  Activating\u001b[22m\u001b[39m project at `g:\\桌面\\Losers`\n",
      "\u001b[32m\u001b[1m   Resolving\u001b[22m\u001b[39m package versions...\n",
      "\u001b[32m\u001b[1m  No Changes\u001b[22m\u001b[39m to `G:\\桌面\\Losers\\Project.toml`\n",
      "\u001b[32m\u001b[1m  No Changes\u001b[22m\u001b[39m to `G:\\桌面\\Losers\\Manifest.toml`\n",
      "\u001b[32m\u001b[1m   Resolving\u001b[22m\u001b[39m package versions...\n",
      "\u001b[32m\u001b[1m  No Changes\u001b[22m\u001b[39m to `G:\\桌面\\Losers\\Project.toml`\n",
      "\u001b[32m\u001b[1m  No Changes\u001b[22m\u001b[39m to `G:\\桌面\\Losers\\Manifest.toml`\n"
     ]
    }
   ],
   "source": [
    "using Pkg\n",
    "Pkg.activate(\".\")\n",
    "Pkg.add(\"CUDA\")\n",
    "Pkg.add(\"BenchmarkTools\")\n",
    "using CUDA\n",
    "using CUDA:i32\n",
    "using BenchmarkTools"
   ]
  },
  {
   "cell_type": "code",
   "execution_count": 22,
   "metadata": {},
   "outputs": [
    {
     "data": {
      "text/plain": [
       "hausdorff_GPU (generic function with 1 method)"
      ]
     },
     "execution_count": 22,
     "metadata": {},
     "output_type": "execute_result"
    }
   ],
   "source": [
    "function hausdorff_kernel(f, ŷ, y, ŷ_dtm, y_dtm, l, T)\n",
    "    index = threadIdx().x\n",
    "    thread_stride = blockDim().x\n",
    "\ti = index + (blockIdx().x - 1) * thread_stride\n",
    "\n",
    "    if i > l\n",
    "        return\n",
    "    end\n",
    "    \n",
    "    cache = CuDynamicSharedArray(T, (thread_stride,))\n",
    "\n",
    "    @inbounds temp1 = ŷ[i] - y[i]\n",
    "    @inbounds temp2 = ŷ_dtm[i]\n",
    "    @inbounds temp3 = y_dtm[i]\n",
    "    @inbounds cache[index] +=  temp1*temp1 * (temp2*temp2 + temp3*temp3)\n",
    "\n",
    "    sync_threads()\n",
    "    \n",
    "    prev_mid = thread_stride\n",
    "    while true\n",
    "        mid = (prev_mid - 1i32) ÷ 2i32 + 1i32\n",
    "        if index+mid <= prev_mid\n",
    "            @inbounds cache[index] += cache[index+mid]\n",
    "        end\n",
    "        sync_threads()\n",
    "        prev_mid = mid\n",
    "        mid == 1i32 && break\n",
    "    end\n",
    "    \n",
    "    if index == 1i32\n",
    "        @inbounds CUDA.@atomic f[] += cache[1]\n",
    "    end\n",
    "    return nothing\n",
    "end\n",
    "\n",
    "\n",
    "function hausdorff(ŷ::CuArray{T1}, y::CuArray{T1}, ŷ_dtm::CuArray{T2}, y_dtm::CuArray{T2})where {T1, T2}\n",
    "    T = promote_type(T1, T2)\n",
    "    f = CUDA.zeros(T,1)\n",
    "    l = length(ŷ)\n",
    "\n",
    "    threads = min(l, GPU_threads)\n",
    "    blocks = cld(l, threads)\n",
    "\n",
    "    @cuda threads=threads blocks=blocks shmem=threads*sizeof(T) hausdorff_kernel(f, ŷ, y, ŷ_dtm, y_dtm, l, T)\n",
    "    @inbounds CUDA.@allowscalar return f[]/l\n",
    "end"
   ]
  },
  {
   "cell_type": "code",
   "execution_count": 75,
   "metadata": {},
   "outputs": [
    {
     "data": {
      "text/plain": [
       "dice_GPU (generic function with 2 methods)"
      ]
     },
     "execution_count": 75,
     "metadata": {},
     "output_type": "execute_result"
    }
   ],
   "source": [
    "function dice_kernel(f, ŷ, y, l, ϵ, T)\n",
    "    index = threadIdx().x\n",
    "    thread_stride = blockDim().x\n",
    "\ti = index + (blockIdx().x - 1) * thread_stride\n",
    "\n",
    "    if i > l\n",
    "        return\n",
    "    end\n",
    "    \n",
    "    cache = CuDynamicSharedArray(T, (2*thread_stride,))\n",
    "    @inbounds temp1 = ŷ[i]\n",
    "    @inbounds temp2 = y[i]\n",
    "    @inbounds cache[index] += temp1*temp2\n",
    "    @inbounds cache[index+thread_stride] += temp1*temp1 + temp2*temp2\n",
    "    sync_threads()\n",
    "    \n",
    "    prev_mid = thread_stride\n",
    "    while true\n",
    "        mid = (prev_mid - 1i32) ÷ 2i32 + 1i32\n",
    "        if index+mid <= prev_mid\n",
    "            @inbounds cache[index] += cache[index+mid]\n",
    "            @inbounds cache[index+thread_stride] += cache[index+mid+thread_stride]\n",
    "        end\n",
    "        sync_threads()\n",
    "        prev_mid = mid\n",
    "        mid == 1i32 && break\n",
    "    end\n",
    "    \n",
    "    if index == 1i32\n",
    "        @inbounds CUDA.@atomic f[1] += cache[1]\n",
    "        @inbounds CUDA.@atomic f[2] += cache[1+thread_stride]\n",
    "    end\n",
    "    return nothing\n",
    "end\n",
    "\n",
    "\n",
    "function dice(ŷ::CuArray{T}, y::CuArray{T}, ϵ=1e-5) where {T}\n",
    "    f = CUDA.zeros(T,3)\n",
    "    l = length(ŷ)\n",
    "    threads = min(l, GPU_threads)\n",
    "    blocks = cld(l, threads)\n",
    "    @cuda threads=threads blocks=blocks shmem=threads*2*sizeof(T) dice_kernel(f, ŷ, y, l, ϵ, T)\n",
    "    f = Array(f)\n",
    "    @inbounds return 1 - muladd(2, f[1], ϵ) / (f[2] + ϵ)\n",
    "end"
   ]
  },
  {
   "cell_type": "code",
   "execution_count": 76,
   "metadata": {},
   "outputs": [
    {
     "data": {
      "text/plain": [
       "0.25288422734507365"
      ]
     },
     "execution_count": 76,
     "metadata": {},
     "output_type": "execute_result"
    }
   ],
   "source": [
    "n = 250\n",
    "y = rand(n,n)\n",
    "ŷ = rand(n,n)\n",
    "\n",
    "y_dtm = rand(n,n)\n",
    "ŷ_dtm = rand(n,n)\n",
    "\n",
    "y_GPU = CuArray(y)\n",
    "ŷ_GPU  = CuArray(ŷ)\n",
    "\n",
    "y_dtm_GPU  = CuArray(y_dtm)\n",
    "ŷ_dtm_GPU  = CuArray(ŷ_dtm)\n",
    "\n",
    "ϵ=1e-5\n",
    "\n",
    "correct_hd = mean((ŷ .- y) .^ 2 .* (ŷ_dtm .^ 2 .+ y_dtm .^ 2))\n",
    "correct_dice = 1 - ((2 * sum(ŷ .* y) + ϵ) / (sum(ŷ .* ŷ) + sum(y .* y) + ϵ))"
   ]
  },
  {
   "cell_type": "code",
   "execution_count": 77,
   "metadata": {},
   "outputs": [
    {
     "data": {
      "text/plain": [
       "0.2528842273450732"
      ]
     },
     "execution_count": 77,
     "metadata": {},
     "output_type": "execute_result"
    }
   ],
   "source": [
    "dice_GPU(ŷ_GPU, y_GPU)"
   ]
  },
  {
   "cell_type": "code",
   "execution_count": 79,
   "metadata": {},
   "outputs": [
    {
     "data": {
      "text/plain": [
       "BenchmarkTools.Trial: 10000 samples with 1 evaluation.\n",
       " Range \u001b[90m(\u001b[39m\u001b[36m\u001b[1mmin\u001b[22m\u001b[39m … \u001b[35mmax\u001b[39m\u001b[90m):  \u001b[39m\u001b[36m\u001b[1m38.500 μs\u001b[22m\u001b[39m … \u001b[35m  3.064 ms\u001b[39m  \u001b[90m┊\u001b[39m GC \u001b[90m(\u001b[39mmin … max\u001b[90m): \u001b[39m0.00% … 0.00%\n",
       " Time  \u001b[90m(\u001b[39m\u001b[34m\u001b[1mmedian\u001b[22m\u001b[39m\u001b[90m):     \u001b[39m\u001b[34m\u001b[1m52.000 μs               \u001b[22m\u001b[39m\u001b[90m┊\u001b[39m GC \u001b[90m(\u001b[39mmedian\u001b[90m):    \u001b[39m0.00%\n",
       " Time  \u001b[90m(\u001b[39m\u001b[32m\u001b[1mmean\u001b[22m\u001b[39m ± \u001b[32mσ\u001b[39m\u001b[90m):   \u001b[39m\u001b[32m\u001b[1m75.067 μs\u001b[22m\u001b[39m ± \u001b[32m165.258 μs\u001b[39m  \u001b[90m┊\u001b[39m GC \u001b[90m(\u001b[39mmean ± σ\u001b[90m):  \u001b[39m0.00% ± 0.00%\n",
       "\n",
       "  \u001b[39m█\u001b[34m \u001b[39m\u001b[39m▃\u001b[32m \u001b[39m\u001b[39m \u001b[39m \u001b[39m \u001b[39m \u001b[39m \u001b[39m \u001b[39m \u001b[39m \u001b[39m \u001b[39m \u001b[39m \u001b[39m \u001b[39m \u001b[39m \u001b[39m \u001b[39m \u001b[39m \u001b[39m \u001b[39m \u001b[39m \u001b[39m \u001b[39m \u001b[39m \u001b[39m \u001b[39m \u001b[39m \u001b[39m \u001b[39m \u001b[39m \u001b[39m \u001b[39m \u001b[39m \u001b[39m \u001b[39m \u001b[39m \u001b[39m \u001b[39m \u001b[39m \u001b[39m \u001b[39m \u001b[39m \u001b[39m \u001b[39m \u001b[39m \u001b[39m \u001b[39m \u001b[39m \u001b[39m \u001b[39m \u001b[39m \u001b[39m \u001b[39m \u001b[39m \u001b[39m \u001b[39m \u001b[39m \u001b[39m \u001b[39m \n",
       "  \u001b[39m█\u001b[34m▄\u001b[39m\u001b[39m█\u001b[32m▃\u001b[39m\u001b[39m▂\u001b[39m▂\u001b[39m▂\u001b[39m▂\u001b[39m▂\u001b[39m▂\u001b[39m▂\u001b[39m▂\u001b[39m▂\u001b[39m▂\u001b[39m▂\u001b[39m▂\u001b[39m▁\u001b[39m▁\u001b[39m▁\u001b[39m▁\u001b[39m▁\u001b[39m▁\u001b[39m▁\u001b[39m▂\u001b[39m▁\u001b[39m▁\u001b[39m▁\u001b[39m▂\u001b[39m▁\u001b[39m▁\u001b[39m▁\u001b[39m▂\u001b[39m▂\u001b[39m▁\u001b[39m▂\u001b[39m▂\u001b[39m▂\u001b[39m▂\u001b[39m▁\u001b[39m▂\u001b[39m▂\u001b[39m▂\u001b[39m▂\u001b[39m▁\u001b[39m▁\u001b[39m▂\u001b[39m▁\u001b[39m▂\u001b[39m▂\u001b[39m▂\u001b[39m▁\u001b[39m▁\u001b[39m▁\u001b[39m▂\u001b[39m▂\u001b[39m▁\u001b[39m▁\u001b[39m▂\u001b[39m▂\u001b[39m▂\u001b[39m \u001b[39m▂\n",
       "  38.5 μs\u001b[90m         Histogram: frequency by time\u001b[39m          872 μs \u001b[0m\u001b[1m<\u001b[22m\n",
       "\n",
       " Memory estimate\u001b[90m: \u001b[39m\u001b[33m3.27 KiB\u001b[39m, allocs estimate\u001b[90m: \u001b[39m\u001b[33m79\u001b[39m."
      ]
     },
     "execution_count": 79,
     "metadata": {},
     "output_type": "execute_result"
    }
   ],
   "source": [
    "@benchmark dice_GPU($ŷ_GPU, $y_GPU)"
   ]
  }
 ],
 "metadata": {
  "kernelspec": {
   "display_name": "Julia (auto threads) 1.7.2",
   "language": "julia",
   "name": "julia-(auto-threads)-1.7"
  },
  "language_info": {
   "file_extension": ".jl",
   "mimetype": "application/julia",
   "name": "julia",
   "version": "1.7.2"
  },
  "orig_nbformat": 4
 },
 "nbformat": 4,
 "nbformat_minor": 2
}
